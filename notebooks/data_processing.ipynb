{
 "cells": [
  {
   "cell_type": "code",
   "execution_count": 1,
   "id": "initial_id",
   "metadata": {
    "ExecuteTime": {
     "end_time": "2024-02-24T13:33:29.992020Z",
     "start_time": "2024-02-24T13:33:29.861999Z"
    },
    "collapsed": true
   },
   "outputs": [],
   "source": [
    "import os\n",
    "from glob import glob\n",
    "import duckdb\n",
    "import polars as pl"
   ]
  },
  {
   "cell_type": "code",
   "execution_count": 2,
   "id": "ec46febab49d5b76",
   "metadata": {
    "ExecuteTime": {
     "end_time": "2024-02-24T13:33:30.001656Z",
     "start_time": "2024-02-24T13:33:29.993755Z"
    },
    "collapsed": false
   },
   "outputs": [
    {
     "name": "stdout",
     "output_type": "stream",
     "text": [
      "Created directories:\n",
      "../data/log_content/20220401.json\n",
      "../data/log_content/20220402.json\n",
      "../data/log_content/20220403.json\n",
      "../data/log_content/20220404.json\n",
      "../data/log_content/20220405.json\n",
      "../data/log_content/20220406.json\n",
      "../data/log_content/20220407.json\n",
      "../data/log_content/20220408.json\n",
      "../data/log_content/20220409.json\n",
      "../data/log_content/20220410.json\n",
      "../data/log_content/20220411.json\n",
      "../data/log_content/20220412.json\n",
      "../data/log_content/20220413.json\n",
      "../data/log_content/20220414.json\n",
      "../data/log_content/20220415.json\n",
      "../data/log_content/20220416.json\n",
      "../data/log_content/20220417.json\n",
      "../data/log_content/20220418.json\n",
      "../data/log_content/20220419.json\n",
      "../data/log_content/20220420.json\n",
      "../data/log_content/20220421.json\n",
      "../data/log_content/20220422.json\n",
      "../data/log_content/20220423.json\n",
      "../data/log_content/20220424.json\n",
      "../data/log_content/20220425.json\n",
      "../data/log_content/20220426.json\n",
      "../data/log_content/20220427.json\n",
      "../data/log_content/20220428.json\n",
      "../data/log_content/20220429.json\n",
      "../data/log_content/20220430.json\n"
     ]
    }
   ],
   "source": [
    "from datetime import datetime, timedelta\n",
    "\n",
    "\n",
    "def create_date_directories(base_path, start_date, end_date, format=\"%Y%m%d\"):\n",
    "    \"\"\"\n",
    "    Creates a list of directories for each date between start_date and end_date, inclusive.\n",
    "\n",
    "    Args:\n",
    "        base_path: The base path where directories will be created.\n",
    "        start_date: The start date as a string in the specified format.\n",
    "        end_date: The end date as a string in the specified format.\n",
    "        format: The date format string to use (default is YYYY-MM-DD).\n",
    "\n",
    "    Returns:\n",
    "        A list of directory paths created.\n",
    "    \"\"\"\n",
    "\n",
    "    # Convert dates to datetime objects\n",
    "    try:\n",
    "        start_date = datetime.strptime(start_date, format).date()\n",
    "        end_date = datetime.strptime(end_date, format).date()\n",
    "    except ValueError:\n",
    "        raise ValueError(f\"Invalid date format. Please use '{format}'\")\n",
    "\n",
    "    # Check if start date is before end date\n",
    "    if start_date > end_date:\n",
    "        raise ValueError(\"Start date must be before end date.\")\n",
    "\n",
    "    # Create list to store directory paths\n",
    "    directory_paths = []\n",
    "\n",
    "    # Iterate through dates and create directories\n",
    "    current_date = start_date\n",
    "    while current_date <= end_date:\n",
    "        # Format date string\n",
    "        date_str = current_date.strftime(format)\n",
    "        # Create directory path\n",
    "        directory_path = os.path.join(base_path, f\"{date_str}.json\")\n",
    "        # Add path to list\n",
    "        directory_paths.append(directory_path)\n",
    "        # Increment date\n",
    "        current_date += timedelta(days=1)\n",
    "\n",
    "    return directory_paths\n",
    "\n",
    "\n",
    "# Example usage\n",
    "base_path = \"../data/log_content/\"\n",
    "start_date = \"20220401\"\n",
    "end_date = \"20220430\"\n",
    "directory_paths = create_date_directories(base_path, start_date, end_date)\n",
    "\n",
    "print(\"Created directories:\")\n",
    "for path in directory_paths:\n",
    "    print(path)\n"
   ]
  },
  {
   "cell_type": "code",
   "execution_count": 3,
   "id": "55a6cc1eb821ade5",
   "metadata": {
    "ExecuteTime": {
     "end_time": "2024-02-24T13:33:34.309417Z",
     "start_time": "2024-02-24T13:33:34.297619Z"
    },
    "collapsed": false
   },
   "outputs": [
    {
     "data": {
      "text/plain": [
       "['../data/log_content/20220415.json',\n",
       " '../data/log_content/20220403.json',\n",
       " '../data/log_content/20220423.json',\n",
       " '../data/log_content/20220419.json',\n",
       " '../data/log_content/20220418.json',\n",
       " '../data/log_content/20220422.json',\n",
       " '../data/log_content/20220402.json',\n",
       " '../data/log_content/20220414.json',\n",
       " '../data/log_content/20220425.json',\n",
       " '../data/log_content/20220409.json',\n",
       " '../data/log_content/20220429.json',\n",
       " '../data/log_content/20220413.json',\n",
       " '../data/log_content/20220405.json',\n",
       " '../data/log_content/20220404.json',\n",
       " '../data/log_content/20220412.json',\n",
       " '../data/log_content/20220428.json',\n",
       " '../data/log_content/20220408.json',\n",
       " '../data/log_content/20220424.json',\n",
       " '../data/log_content/20220427.json',\n",
       " '../data/log_content/20220407.json',\n",
       " '../data/log_content/20220411.json',\n",
       " '../data/log_content/20220410.json',\n",
       " '../data/log_content/20220406.json',\n",
       " '../data/log_content/20220426.json',\n",
       " '../data/log_content/20220430.json',\n",
       " '../data/log_content/20220401.json',\n",
       " '../data/log_content/20220417.json',\n",
       " '../data/log_content/20220421.json',\n",
       " '../data/log_content/20220420.json',\n",
       " '../data/log_content/20220416.json']"
      ]
     },
     "execution_count": 3,
     "metadata": {},
     "output_type": "execute_result"
    }
   ],
   "source": [
    "csvFile = \"../data/log_content/*.json\"\n",
    "glob(csvFile)"
   ]
  },
  {
   "cell_type": "markdown",
   "id": "b0c9fff251a6518d",
   "metadata": {},
   "source": [
    "# Ingest the logging data"
   ]
  },
  {
   "cell_type": "code",
   "execution_count": 5,
   "id": "f4c31c5a2d53f8d2",
   "metadata": {
    "ExecuteTime": {
     "end_time": "2024-02-24T13:33:47.097256Z",
     "start_time": "2024-02-24T13:33:47.088939Z"
    },
    "collapsed": false
   },
   "outputs": [],
   "source": [
    "def get_log_json(paths: str | list[str]) -> pl.LazyFrame:\n",
    "    \"\"\"\n",
    "    Function to ingest the logging json data, get the filename and add a \"Date\" column\n",
    "    Args:\n",
    "        paths (str | list[str]): a list of path to data, this path must be in glob pattern\n",
    "\n",
    "    Returns:\n",
    "        pl.LazyFame\n",
    "    \"\"\"\n",
    "    if isinstance(paths, str):\n",
    "        paths = [paths]\n",
    "    # Define schema of logging data\n",
    "    schema = {\n",
    "        \"_index\" : pl.String,\n",
    "        \"_type\"  : pl.String,\n",
    "        \"_id\"    : pl.String,\n",
    "        \"_score\" : pl.Int64,\n",
    "        \"_source\": pl.Struct(\n",
    "            [\n",
    "                pl.Field(\"Contract\", pl.String),\n",
    "                pl.Field(\"Mac\", pl.String),\n",
    "                pl.Field(\"TotalDuration\", pl.Int64),\n",
    "                pl.Field(\"AppName\", pl.String),\n",
    "            ]\n",
    "        ),\n",
    "    }\n",
    "\n",
    "    def _scan_log(path, schema):\n",
    "        return (\n",
    "            pl.scan_ndjson(path, schema=schema, low_memory=True)\n",
    "            .with_columns(pl.Series(\"Date\", [path]).str.extract(r\"\\d{8}\", 0))\n",
    "            .select(\n",
    "                pl.col(\"Date\").str.to_date(\"%Y %m %d\"),\n",
    "                pl.col(\"_index\").alias(\"Index\"),\n",
    "                pl.col(\"_type\").alias(\"Type\"),\n",
    "                pl.col(\"_id\").alias(\"Id\"),\n",
    "                pl.col(\"_score\").alias(\"Score\"),\n",
    "                pl.col(\"_source\"),\n",
    "            )\n",
    "            .unnest(\"_source\")\n",
    "        )\n",
    "\n",
    "    dfs = []\n",
    "    # Function to scan and preprocess a single log data\n",
    "    try:\n",
    "        dfs = [_scan_log(path, schema) for path in paths]\n",
    "    except Exception as e:\n",
    "        print(f\"Failed to read data from {paths}\", {e})\n",
    "\n",
    "    # Concatenate the processed lazyframes\n",
    "    return pl.concat(dfs, how=\"vertical\").lazy()"
   ]
  },
  {
   "cell_type": "code",
   "execution_count": 6,
   "id": "bcc50cd786301652",
   "metadata": {
    "ExecuteTime": {
     "end_time": "2024-02-24T13:33:49.725024Z",
     "start_time": "2024-02-24T13:33:49.665735Z"
    },
    "collapsed": false
   },
   "outputs": [],
   "source": [
    "sources = get_log_json(directory_paths)"
   ]
  },
  {
   "cell_type": "markdown",
   "id": "f46bdc1ff02875c0",
   "metadata": {},
   "source": [
    "# Get the RFM table"
   ]
  },
  {
   "cell_type": "code",
   "execution_count": 12,
   "id": "42c8eb73de804080",
   "metadata": {
    "ExecuteTime": {
     "end_time": "2024-02-24T07:08:51.445208Z",
     "start_time": "2024-02-24T07:08:51.440616Z"
    }
   },
   "outputs": [
    {
     "data": {
      "text/plain": [
       "OrderedDict([('Date', Date),\n",
       "             ('Index', String),\n",
       "             ('Type', String),\n",
       "             ('Id', String),\n",
       "             ('Score', Int64),\n",
       "             ('Contract', String),\n",
       "             ('Mac', String),\n",
       "             ('TotalDuration', Int64),\n",
       "             ('AppName', String)])"
      ]
     },
     "execution_count": 12,
     "metadata": {},
     "output_type": "execute_result"
    }
   ],
   "source": [
    "sources.schema\n"
   ]
  },
  {
   "cell_type": "code",
   "execution_count": 39,
   "id": "369e49a47d9ae5d2",
   "metadata": {
    "ExecuteTime": {
     "end_time": "2024-02-24T14:21:47.312528Z",
     "start_time": "2024-02-24T14:21:45.983608Z"
    }
   },
   "outputs": [
    {
     "data": {
      "text/html": [
       "<div><style>\n",
       ".dataframe > thead > tr,\n",
       ".dataframe > tbody > tr {\n",
       "  text-align: right;\n",
       "  white-space: pre-wrap;\n",
       "}\n",
       "</style>\n",
       "<small>shape: (2_966, 4)</small><table border=\"1\" class=\"dataframe\"><thead><tr><th>Contract</th><th>RecencyScore</th><th>FrequencyScore</th><th>MonetaryScore</th></tr><tr><td>str</td><td>duration[ms]</td><td>f64</td><td>i64</td></tr></thead><tbody><tr><td>&quot;AGAAA0895&quot;</td><td>1d</td><td>3.33</td><td>133645548</td></tr><tr><td>&quot;AGAAA2984&quot;</td><td>1d</td><td>3.33</td><td>2275689</td></tr><tr><td>&quot;AGD018502&quot;</td><td>1d</td><td>3.33</td><td>2412171</td></tr><tr><td>&quot;AGD019199&quot;</td><td>1d</td><td>3.33</td><td>28233972</td></tr><tr><td>&quot;AGD023638&quot;</td><td>1d</td><td>3.33</td><td>31865580</td></tr><tr><td>&quot;AGD029777&quot;</td><td>1d</td><td>3.33</td><td>145029927</td></tr><tr><td>&quot;AGD030574&quot;</td><td>1d</td><td>3.33</td><td>230200629</td></tr><tr><td>&quot;AGFD02286&quot;</td><td>1d</td><td>3.33</td><td>133111488</td></tr><tr><td>&quot;AGFD03433&quot;</td><td>1d</td><td>3.33</td><td>22077447</td></tr><tr><td>&quot;AGFD03608&quot;</td><td>1d</td><td>3.33</td><td>59918565</td></tr><tr><td>&quot;AGFD11028&quot;</td><td>1d</td><td>3.33</td><td>101213271</td></tr><tr><td>&quot;AGFD13266&quot;</td><td>1d</td><td>3.33</td><td>218386035</td></tr><tr><td>&hellip;</td><td>&hellip;</td><td>&hellip;</td><td>&hellip;</td></tr><tr><td>&quot;VTH013840&quot;</td><td>1d</td><td>3.33</td><td>133345881</td></tr><tr><td>&quot;VTH016166&quot;</td><td>1d</td><td>3.33</td><td>50373726</td></tr><tr><td>&quot;YBFD01841&quot;</td><td>1d</td><td>3.33</td><td>101097558</td></tr><tr><td>&quot;YBFD01992&quot;</td><td>1d</td><td>3.33</td><td>105984207</td></tr><tr><td>&quot;YBFD05612&quot;</td><td>1d</td><td>3.33</td><td>145261353</td></tr><tr><td>&quot;YBFD06092&quot;</td><td>1d</td><td>3.33</td><td>46160586</td></tr><tr><td>&quot;YBFD06137&quot;</td><td>1d</td><td>3.33</td><td>126610791</td></tr><tr><td>&quot;YBFD06295&quot;</td><td>1d</td><td>3.33</td><td>6376083</td></tr><tr><td>&quot;YBFD08036&quot;</td><td>1d</td><td>3.33</td><td>101578212</td></tr><tr><td>&quot;YBFD08438&quot;</td><td>1d</td><td>3.33</td><td>102536553</td></tr><tr><td>&quot;YBFD09582&quot;</td><td>1d</td><td>3.33</td><td>14900274</td></tr><tr><td>&quot;YBFD09881&quot;</td><td>1d</td><td>3.33</td><td>59304396</td></tr></tbody></table></div>"
      ],
      "text/plain": [
       "shape: (2_966, 4)\n",
       "┌───────────┬──────────────┬────────────────┬───────────────┐\n",
       "│ Contract  ┆ RecencyScore ┆ FrequencyScore ┆ MonetaryScore │\n",
       "│ ---       ┆ ---          ┆ ---            ┆ ---           │\n",
       "│ str       ┆ duration[ms] ┆ f64            ┆ i64           │\n",
       "╞═══════════╪══════════════╪════════════════╪═══════════════╡\n",
       "│ AGAAA0895 ┆ 1d           ┆ 3.33           ┆ 133645548     │\n",
       "│ AGAAA2984 ┆ 1d           ┆ 3.33           ┆ 2275689       │\n",
       "│ AGD018502 ┆ 1d           ┆ 3.33           ┆ 2412171       │\n",
       "│ AGD019199 ┆ 1d           ┆ 3.33           ┆ 28233972      │\n",
       "│ AGD023638 ┆ 1d           ┆ 3.33           ┆ 31865580      │\n",
       "│ …         ┆ …            ┆ …              ┆ …             │\n",
       "│ YBFD06295 ┆ 1d           ┆ 3.33           ┆ 6376083       │\n",
       "│ YBFD08036 ┆ 1d           ┆ 3.33           ┆ 101578212     │\n",
       "│ YBFD08438 ┆ 1d           ┆ 3.33           ┆ 102536553     │\n",
       "│ YBFD09582 ┆ 1d           ┆ 3.33           ┆ 14900274      │\n",
       "│ YBFD09881 ┆ 1d           ┆ 3.33           ┆ 59304396      │\n",
       "└───────────┴──────────────┴────────────────┴───────────────┘"
      ]
     },
     "execution_count": 39,
     "metadata": {},
     "output_type": "execute_result"
    }
   ],
   "source": [
    "reported_date = \"20220501\"\n",
    "\n",
    "\n",
    "def get_rfm_table(sources: pl.LazyFrame, reported_date: str = \"20220501\", total_date: int = 30) -> pl.LazyFrame:\n",
    "    b: pl.LazyFrame = (\n",
    "        sources.group_by(\"Contract\")\n",
    "        .agg(\n",
    "            pl.col(\"Date\").max().alias(\"LatestDate\")\n",
    "        )\n",
    "    )\n",
    "\n",
    "    temp = (\n",
    "        sources.with_columns(\n",
    "            pl.lit(reported_date).str.to_date(\"%Y %m %d\").alias(\"ReportedDate\")\n",
    "        )\n",
    "    )\n",
    "    # print(\"Shape of temp and b\")\n",
    "    # print(f\" shape of b {b.collect().shape}, shape of temp {temp.collect().shape}\")\n",
    "    rfm = (\n",
    "        temp\n",
    "        .filter(pl.col(\"Contract\").str.len_chars() > 1)\n",
    "        .join(b, on=\"Contract\", how='cross')\n",
    "        .group_by(\"Contract\")\n",
    "        .agg(\n",
    "            (pl.col(\"ReportedDate\") - pl.col(\"LatestDate\")).min().alias(\"RecencyScore\"),\n",
    "            (pl.col(\"Date\").n_unique() / pl.lit(total_date) * 100.0).round(2).alias(\"FrequencyScore\"),\n",
    "            pl.sum(\"TotalDuration\").alias(\"MonetaryScore\"),\n",
    "        )\n",
    "        .sort(\"Contract\")\n",
    "\n",
    "        # .with_columns(\n",
    "        #     pl.col(\"RecencyScore\").qcut(10)\n",
    "        #     .over(pl.col(\"Contract\")).alias(\"R\"),\n",
    "        #     # pl.col(\"FrequencyScore\").qcut(3, labels=[\"1\", \"2\", \"3\"]).alias(\"F\"),\n",
    "        #     # pl.col(\"MonetaryScore\").qcut(3, labels=[\"1\", \"2\", \"3\"]).alias(\"M\")\n",
    "        # )\n",
    "    )\n",
    "\n",
    "    return rfm\n",
    "\n",
    "\n",
    "# pl.lit(total_date).cast(pl.Date)\n",
    "# new_sources = get_log_json(\"../data/log_content/20220404.json\")\n",
    "get_rfm_table(sources).fetch(100)\n",
    "\n",
    "\n"
   ]
  },
  {
   "cell_type": "code",
   "execution_count": null,
   "id": "3d0e71e446594927",
   "metadata": {},
   "outputs": [],
   "source": [
    "pl.col()"
   ]
  },
  {
   "cell_type": "code",
   "execution_count": null,
   "id": "a97ad68b8ff39233",
   "metadata": {},
   "outputs": [],
   "source": [
    "# heap sort"
   ]
  }
 ],
 "metadata": {
  "kernelspec": {
   "display_name": "Python 3",
   "language": "python",
   "name": "python3"
  },
  "language_info": {
   "codemirror_mode": {
    "name": "ipython",
    "version": 2
   },
   "file_extension": ".py",
   "mimetype": "text/x-python",
   "name": "python",
   "nbconvert_exporter": "python",
   "pygments_lexer": "ipython2",
   "version": "3.11.6"
  }
 },
 "nbformat": 4,
 "nbformat_minor": 5
}
