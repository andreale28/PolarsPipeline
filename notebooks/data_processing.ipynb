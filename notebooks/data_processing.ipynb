{
 "cells": [
  {
   "cell_type": "code",
   "execution_count": 1,
   "id": "initial_id",
   "metadata": {
    "ExecuteTime": {
     "end_time": "2024-02-27T17:11:33.452659Z",
     "start_time": "2024-02-27T17:11:32.634091Z"
    },
    "collapsed": true
   },
   "outputs": [],
   "source": [
    "import os\n",
    "from glob import glob\n",
    "from typing import List\n",
    "\n",
    "import dotenv\n",
    "import opendal\n",
    "import polars as pl\n",
    "import pyarrow as pa\n",
    "import polars.selectors as s\n",
    "from pyarrow import fs\n",
    "from pyarrow.dataset import dataset\n",
    "\n",
    "from src.helpers.utils import create_date_directories\n",
    "\n"
   ]
  },
  {
   "cell_type": "code",
   "execution_count": 2,
   "id": "ec46febab49d5b76",
   "metadata": {
    "ExecuteTime": {
     "end_time": "2024-02-27T17:12:05.514974Z",
     "start_time": "2024-02-27T17:12:05.511082Z"
    },
    "collapsed": false
   },
   "outputs": [],
   "source": [
    "# Example usage\n",
    "base_path = \"../data/log_content/\"\n",
    "start_date = \"20220401\"\n",
    "end_date = \"20220430\"\n",
    "directory_paths = create_date_directories(base_path, start_date, end_date)"
   ]
  },
  {
   "cell_type": "code",
   "execution_count": 47,
   "id": "a1202f84ee6bf635",
   "metadata": {
    "ExecuteTime": {
     "end_time": "2024-02-26T15:11:52.925298Z",
     "start_time": "2024-02-26T15:11:52.919799Z"
    },
    "collapsed": false
   },
   "outputs": [],
   "source": [
    "def ingest_log():\n",
    "    dotenv.load_dotenv()\n",
    "    access_key_id = os.getenv(\"AWS_ACCESS_KEY_ID\")\n",
    "    secret_access_key = os.getenv(\"AWS_SECRET_ACCESS_KEY\")\n",
    "    region = os.getenv(\"AWS_REGION\")\n",
    "    op = opendal.Operator(\n",
    "        \"s3\",\n",
    "        root='/log_content/',\n",
    "        bucket='data',\n",
    "        region=region,\n",
    "        endpoint='http://127.0.0.1:9000',\n",
    "        access_key_id=access_key_id,\n",
    "        secret_access_key=secret_access_key,\n",
    "    )\n",
    "\n",
    "    return op"
   ]
  },
  {
   "cell_type": "code",
   "execution_count": 7,
   "id": "c8e456f3f4754dca",
   "metadata": {
    "ExecuteTime": {
     "end_time": "2024-02-27T02:57:39.187895Z",
     "start_time": "2024-02-27T02:57:39.176018Z"
    },
    "collapsed": false
   },
   "outputs": [
    {
     "data": {
      "text/plain": [
       "['data/log_content/20220401.json',\n",
       " 'data/log_content/20220402.json',\n",
       " 'data/log_content/20220403.json',\n",
       " 'data/log_content/20220404.json',\n",
       " 'data/log_content/20220405.json',\n",
       " 'data/log_content/20220406.json',\n",
       " 'data/log_content/20220407.json',\n",
       " 'data/log_content/20220408.json',\n",
       " 'data/log_content/20220409.json',\n",
       " 'data/log_content/20220410.json',\n",
       " 'data/log_content/20220411.json',\n",
       " 'data/log_content/20220412.json',\n",
       " 'data/log_content/20220413.json',\n",
       " 'data/log_content/20220414.json',\n",
       " 'data/log_content/20220415.json',\n",
       " 'data/log_content/20220416.json',\n",
       " 'data/log_content/20220417.json',\n",
       " 'data/log_content/20220418.json',\n",
       " 'data/log_content/20220419.json',\n",
       " 'data/log_content/20220420.json',\n",
       " 'data/log_content/20220421.json',\n",
       " 'data/log_content/20220422.json',\n",
       " 'data/log_content/20220423.json',\n",
       " 'data/log_content/20220424.json',\n",
       " 'data/log_content/20220425.json',\n",
       " 'data/log_content/20220426.json',\n",
       " 'data/log_content/20220427.json',\n",
       " 'data/log_content/20220428.json',\n",
       " 'data/log_content/20220429.json',\n",
       " 'data/log_content/20220430.json']"
      ]
     },
     "execution_count": 7,
     "metadata": {},
     "output_type": "execute_result"
    }
   ],
   "source": [
    "directory_paths"
   ]
  },
  {
   "cell_type": "code",
   "execution_count": 22,
   "id": "a0048e7c783d98b0",
   "metadata": {
    "ExecuteTime": {
     "end_time": "2024-02-27T04:32:22.415598Z",
     "start_time": "2024-02-27T04:32:22.368749Z"
    },
    "collapsed": false
   },
   "outputs": [],
   "source": [
    "\n",
    "# setup cloud filesystem access\n",
    "def ingest_by_pyarrow(paths: List[str] = None):\n",
    "    dotenv.load_dotenv()\n",
    "    cloudfs = fs.S3FileSystem(\n",
    "        access_key=os.getenv(\"AWS_ACCESS_KEY_ID\"),\n",
    "        secret_key=os.getenv(\"AWS_SECRET_ACCESS_KEY\"),\n",
    "        region=os.getenv(\"AWS_REGION\"),\n",
    "        endpoint_override='http://127.0.0.1:9000',\n",
    "    )\n",
    "\n",
    "    schema = pa.schema([\n",
    "        pa.field('_index', pa.string()),\n",
    "        pa.field('_type', pa.string()),\n",
    "        pa.field('_id', pa.string()),\n",
    "        pa.field('_score', pa.int64()),\n",
    "        pa.field('_source',\n",
    "                 pa.struct(\n",
    "                     [\n",
    "                         pa.field('Contract', pa.string()),\n",
    "                         pa.field('Mac', pa.string()),\n",
    "                         pa.field('TotalDuration', pa.int64()),\n",
    "                         pa.field('AppName', pa.string()),\n",
    "                     ]\n",
    "                 )\n",
    "                 )\n",
    "    ])\n",
    "    df = []\n",
    "\n",
    "    for path in paths:\n",
    "        ds = dataset(\n",
    "            source=path,\n",
    "            schema=schema,\n",
    "            filesystem=cloudfs,\n",
    "            format='json',\n",
    "        )\n",
    "        df.append(\n",
    "            pl.scan_pyarrow_dataset(ds)\n",
    "            .with_columns(pl.Series(\"Date\", [path]).str.extract(r\"\\d{8}\", 0))\n",
    "            .select(\n",
    "                pl.col(\"Date\").str.to_date(\"%Y %m %d\"),\n",
    "                pl.col(\"_index\").alias(\"Index\"),\n",
    "                pl.col(\"_type\").alias(\"Type\"),\n",
    "                pl.col(\"_id\").alias(\"Id\"),\n",
    "                pl.col(\"_score\").alias(\"Score\"),\n",
    "                pl.col(\"_source\"),\n",
    "            )\n",
    "            .unnest(\"_source\")\n",
    "        )\n",
    "\n",
    "    return pl.concat(df)\n"
   ]
  },
  {
   "cell_type": "code",
   "execution_count": 23,
   "id": "86bbf6bfbf7059a5",
   "metadata": {
    "ExecuteTime": {
     "end_time": "2024-02-27T04:32:41.251688Z",
     "start_time": "2024-02-27T04:32:37.898075Z"
    },
    "collapsed": false
   },
   "outputs": [],
   "source": [
    "del ldf\n",
    "ldf = ingest_by_pyarrow(directory_paths)"
   ]
  },
  {
   "cell_type": "code",
   "execution_count": 28,
   "id": "9150ae594f656583",
   "metadata": {
    "ExecuteTime": {
     "end_time": "2024-02-27T04:46:40.175541Z",
     "start_time": "2024-02-27T04:44:28.255399Z"
    },
    "collapsed": false
   },
   "outputs": [
    {
     "data": {
      "text/html": [
       "<div><style>\n",
       ".dataframe > thead > tr,\n",
       ".dataframe > tbody > tr {\n",
       "  text-align: right;\n",
       "  white-space: pre-wrap;\n",
       "}\n",
       "</style>\n",
       "<small>shape: (9, 10)</small><table border=\"1\" class=\"dataframe\"><thead><tr><th>statistic</th><th>Date</th><th>Index</th><th>Type</th><th>Id</th><th>Score</th><th>Contract</th><th>Mac</th><th>TotalDuration</th><th>AppName</th></tr><tr><td>str</td><td>str</td><td>str</td><td>str</td><td>str</td><td>f64</td><td>str</td><td>str</td><td>f64</td><td>str</td></tr></thead><tbody><tr><td>&quot;count&quot;</td><td>&quot;48457499&quot;</td><td>&quot;48457499&quot;</td><td>&quot;48457499&quot;</td><td>&quot;48457499&quot;</td><td>4.8457499e7</td><td>&quot;48457499&quot;</td><td>&quot;48457499&quot;</td><td>4.8457499e7</td><td>&quot;48457499&quot;</td></tr><tr><td>&quot;null_count&quot;</td><td>&quot;0&quot;</td><td>&quot;0&quot;</td><td>&quot;0&quot;</td><td>&quot;0&quot;</td><td>0.0</td><td>&quot;0&quot;</td><td>&quot;0&quot;</td><td>0.0</td><td>&quot;0&quot;</td></tr><tr><td>&quot;mean&quot;</td><td>&quot;2022-04-15&quot;</td><td>null</td><td>null</td><td>null</td><td>0.0</td><td>null</td><td>null</td><td>15545.568128</td><td>null</td></tr><tr><td>&quot;std&quot;</td><td>null</td><td>null</td><td>null</td><td>null</td><td>0.0</td><td>null</td><td>null</td><td>188998.378306</td><td>null</td></tr><tr><td>&quot;min&quot;</td><td>&quot;2022-04-01&quot;</td><td>&quot;history&quot;</td><td>&quot;app&quot;</td><td>&quot;AX_2CD-Aa1FFiv…</td><td>0.0</td><td>&quot;&quot;</td><td>&quot;001504D6BC59&quot;</td><td>-8.8958e8</td><td>&quot;APP&quot;</td></tr><tr><td>&quot;25%&quot;</td><td>&quot;2022-04-08&quot;</td><td>null</td><td>null</td><td>null</td><td>0.0</td><td>null</td><td>null</td><td>1054.0</td><td>null</td></tr><tr><td>&quot;50%&quot;</td><td>&quot;2022-04-16&quot;</td><td>null</td><td>null</td><td>null</td><td>0.0</td><td>null</td><td>null</td><td>6765.0</td><td>null</td></tr><tr><td>&quot;75%&quot;</td><td>&quot;2022-04-23&quot;</td><td>null</td><td>null</td><td>null</td><td>0.0</td><td>null</td><td>null</td><td>18562.0</td><td>null</td></tr><tr><td>&quot;max&quot;</td><td>&quot;2022-04-30&quot;</td><td>&quot;history&quot;</td><td>&quot;vod&quot;</td><td>&quot;AYBxrfUVa1FFiv…</td><td>0.0</td><td>&quot;qad014541&quot;</td><td>&quot;FC017C984258&quot;</td><td>86400.0</td><td>&quot;VOD&quot;</td></tr></tbody></table></div>"
      ],
      "text/plain": [
       "shape: (9, 10)\n",
       "┌────────────┬────────────┬──────────┬──────────┬───┬───────────┬───────────┬───────────┬──────────┐\n",
       "│ statistic  ┆ Date       ┆ Index    ┆ Type     ┆ … ┆ Contract  ┆ Mac       ┆ TotalDura ┆ AppName  │\n",
       "│ ---        ┆ ---        ┆ ---      ┆ ---      ┆   ┆ ---       ┆ ---       ┆ tion      ┆ ---      │\n",
       "│ str        ┆ str        ┆ str      ┆ str      ┆   ┆ str       ┆ str       ┆ ---       ┆ str      │\n",
       "│            ┆            ┆          ┆          ┆   ┆           ┆           ┆ f64       ┆          │\n",
       "╞════════════╪════════════╪══════════╪══════════╪═══╪═══════════╪═══════════╪═══════════╪══════════╡\n",
       "│ count      ┆ 48457499   ┆ 48457499 ┆ 48457499 ┆ … ┆ 48457499  ┆ 48457499  ┆ 4.8457499 ┆ 48457499 │\n",
       "│            ┆            ┆          ┆          ┆   ┆           ┆           ┆ e7        ┆          │\n",
       "│ null_count ┆ 0          ┆ 0        ┆ 0        ┆ … ┆ 0         ┆ 0         ┆ 0.0       ┆ 0        │\n",
       "│ mean       ┆ 2022-04-15 ┆ null     ┆ null     ┆ … ┆ null      ┆ null      ┆ 15545.568 ┆ null     │\n",
       "│            ┆            ┆          ┆          ┆   ┆           ┆           ┆ 128       ┆          │\n",
       "│ std        ┆ null       ┆ null     ┆ null     ┆ … ┆ null      ┆ null      ┆ 188998.37 ┆ null     │\n",
       "│            ┆            ┆          ┆          ┆   ┆           ┆           ┆ 8306      ┆          │\n",
       "│ min        ┆ 2022-04-01 ┆ history  ┆ app      ┆ … ┆           ┆ 001504D6B ┆ -8.8958e8 ┆ APP      │\n",
       "│            ┆            ┆          ┆          ┆   ┆           ┆ C59       ┆           ┆          │\n",
       "│ 25%        ┆ 2022-04-08 ┆ null     ┆ null     ┆ … ┆ null      ┆ null      ┆ 1054.0    ┆ null     │\n",
       "│ 50%        ┆ 2022-04-16 ┆ null     ┆ null     ┆ … ┆ null      ┆ null      ┆ 6765.0    ┆ null     │\n",
       "│ 75%        ┆ 2022-04-23 ┆ null     ┆ null     ┆ … ┆ null      ┆ null      ┆ 18562.0   ┆ null     │\n",
       "│ max        ┆ 2022-04-30 ┆ history  ┆ vod      ┆ … ┆ qad014541 ┆ FC017C984 ┆ 86400.0   ┆ VOD      │\n",
       "│            ┆            ┆          ┆          ┆   ┆           ┆ 258       ┆           ┆          │\n",
       "└────────────┴────────────┴──────────┴──────────┴───┴───────────┴───────────┴───────────┴──────────┘"
      ]
     },
     "execution_count": 28,
     "metadata": {},
     "output_type": "execute_result"
    }
   ],
   "source": [
    "ldf.describe()"
   ]
  },
  {
   "cell_type": "code",
   "execution_count": 3,
   "id": "55a6cc1eb821ade5",
   "metadata": {
    "ExecuteTime": {
     "end_time": "2024-02-25T14:10:32.236604Z",
     "start_time": "2024-02-25T14:10:32.223661Z"
    },
    "collapsed": false
   },
   "outputs": [
    {
     "data": {
      "text/plain": [
       "['../data/log_content/20220415.json',\n",
       " '../data/log_content/20220403.json',\n",
       " '../data/log_content/20220423.json',\n",
       " '../data/log_content/20220419.json',\n",
       " '../data/log_content/20220418.json',\n",
       " '../data/log_content/20220422.json',\n",
       " '../data/log_content/20220402.json',\n",
       " '../data/log_content/20220414.json',\n",
       " '../data/log_content/20220425.json',\n",
       " '../data/log_content/20220409.json',\n",
       " '../data/log_content/20220429.json',\n",
       " '../data/log_content/20220413.json',\n",
       " '../data/log_content/20220405.json',\n",
       " '../data/log_content/20220404.json',\n",
       " '../data/log_content/20220412.json',\n",
       " '../data/log_content/20220428.json',\n",
       " '../data/log_content/20220408.json',\n",
       " '../data/log_content/20220424.json',\n",
       " '../data/log_content/20220427.json',\n",
       " '../data/log_content/20220407.json',\n",
       " '../data/log_content/20220411.json',\n",
       " '../data/log_content/20220410.json',\n",
       " '../data/log_content/20220406.json',\n",
       " '../data/log_content/20220426.json',\n",
       " '../data/log_content/20220430.json',\n",
       " '../data/log_content/20220401.json',\n",
       " '../data/log_content/20220417.json',\n",
       " '../data/log_content/20220421.json',\n",
       " '../data/log_content/20220420.json',\n",
       " '../data/log_content/20220416.json']"
      ]
     },
     "execution_count": 3,
     "metadata": {},
     "output_type": "execute_result"
    }
   ],
   "source": [
    "csvFile = \"../data/log_content/*.json\"\n",
    "glob(csvFile)"
   ]
  },
  {
   "cell_type": "markdown",
   "id": "b0c9fff251a6518d",
   "metadata": {},
   "source": [
    "# Ingest the logging data"
   ]
  },
  {
   "cell_type": "code",
   "execution_count": 3,
   "id": "f4c31c5a2d53f8d2",
   "metadata": {
    "ExecuteTime": {
     "end_time": "2024-02-27T17:12:22.185015Z",
     "start_time": "2024-02-27T17:12:22.176891Z"
    },
    "collapsed": false
   },
   "outputs": [],
   "source": [
    "def get_log_json(paths: str | list[str]) -> pl.LazyFrame:\n",
    "    \"\"\"\n",
    "    Function to ingest the logging json data, get the filename and add a \"Date\" column\n",
    "    Args:\n",
    "        paths (str | list[str]): a list of path to data, this path must be in glob pattern\n",
    "\n",
    "    Returns:\n",
    "        pl.LazyFame\n",
    "    \"\"\"\n",
    "    if isinstance(paths, str):\n",
    "        paths = [paths]\n",
    "    # Define schema of logging data\n",
    "    schema = {\n",
    "        \"_index\" : pl.String,\n",
    "        \"_type\"  : pl.String,\n",
    "        \"_id\"    : pl.String,\n",
    "        \"_score\" : pl.Int64,\n",
    "        \"_source\": pl.Struct(\n",
    "            [\n",
    "                pl.Field(\"Contract\", pl.String),\n",
    "                pl.Field(\"Mac\", pl.String),\n",
    "                pl.Field(\"TotalDuration\", pl.Int64),\n",
    "                pl.Field(\"AppName\", pl.String),\n",
    "            ]\n",
    "        ),\n",
    "    }\n",
    "\n",
    "    def _scan_log(path, schema):\n",
    "        return (\n",
    "            pl.scan_ndjson(path, schema=schema, low_memory=True)\n",
    "            .with_columns(pl.Series(\"Date\", [path]).str.extract(r\"\\d{8}\", 0))\n",
    "            .select(\n",
    "                pl.col(\"Date\").str.to_date(\"%Y %m %d\"),\n",
    "                pl.col(\"_index\").alias(\"Index\"),\n",
    "                pl.col(\"_type\").alias(\"Type\"),\n",
    "                pl.col(\"_id\").alias(\"Id\"),\n",
    "                pl.col(\"_score\").alias(\"Score\"),\n",
    "                pl.col(\"_source\"),\n",
    "            )\n",
    "            .unnest(\"_source\")\n",
    "        )\n",
    "\n",
    "    dfs = []\n",
    "    # Function to scan and preprocess a single log data\n",
    "    try:\n",
    "        dfs = [_scan_log(path, schema) for path in paths]\n",
    "    except Exception as e:\n",
    "        print(f\"Failed to read data from {paths}\", {e})\n",
    "\n",
    "    # Concatenate the processed lazyframes\n",
    "    return pl.concat(dfs, how=\"vertical\").lazy()"
   ]
  },
  {
   "cell_type": "code",
   "execution_count": 4,
   "id": "bcc50cd786301652",
   "metadata": {
    "ExecuteTime": {
     "end_time": "2024-02-27T17:12:25.322645Z",
     "start_time": "2024-02-27T17:12:25.255945Z"
    },
    "collapsed": false
   },
   "outputs": [],
   "source": [
    "sources = get_log_json(directory_paths)"
   ]
  },
  {
   "cell_type": "code",
   "execution_count": 37,
   "id": "b2b5e11b421f6749",
   "metadata": {
    "ExecuteTime": {
     "end_time": "2024-02-27T04:57:30.802487Z",
     "start_time": "2024-02-27T04:56:25.346272Z"
    },
    "collapsed": false
   },
   "outputs": [
    {
     "data": {
      "text/html": [
       "<div><style>\n",
       ".dataframe > thead > tr,\n",
       ".dataframe > tbody > tr {\n",
       "  text-align: right;\n",
       "  white-space: pre-wrap;\n",
       "}\n",
       "</style>\n",
       "<small>shape: (9, 10)</small><table border=\"1\" class=\"dataframe\"><thead><tr><th>statistic</th><th>Date</th><th>Index</th><th>Type</th><th>Id</th><th>Score</th><th>Contract</th><th>Mac</th><th>TotalDuration</th><th>AppName</th></tr><tr><td>str</td><td>str</td><td>str</td><td>str</td><td>str</td><td>f64</td><td>str</td><td>str</td><td>f64</td><td>str</td></tr></thead><tbody><tr><td>&quot;count&quot;</td><td>&quot;48457499&quot;</td><td>&quot;48457499&quot;</td><td>&quot;48457499&quot;</td><td>&quot;48457499&quot;</td><td>4.8457499e7</td><td>&quot;48457499&quot;</td><td>&quot;48457499&quot;</td><td>4.8457499e7</td><td>&quot;48457499&quot;</td></tr><tr><td>&quot;null_count&quot;</td><td>&quot;0&quot;</td><td>&quot;0&quot;</td><td>&quot;0&quot;</td><td>&quot;0&quot;</td><td>0.0</td><td>&quot;0&quot;</td><td>&quot;0&quot;</td><td>0.0</td><td>&quot;0&quot;</td></tr><tr><td>&quot;mean&quot;</td><td>&quot;2022-04-15&quot;</td><td>null</td><td>null</td><td>null</td><td>0.0</td><td>null</td><td>null</td><td>15545.568128</td><td>null</td></tr><tr><td>&quot;std&quot;</td><td>null</td><td>null</td><td>null</td><td>null</td><td>0.0</td><td>null</td><td>null</td><td>188998.378306</td><td>null</td></tr><tr><td>&quot;min&quot;</td><td>&quot;2022-04-01&quot;</td><td>&quot;history&quot;</td><td>&quot;app&quot;</td><td>&quot;AX_2CD-Aa1FFiv…</td><td>0.0</td><td>&quot;&quot;</td><td>&quot;001504D6BC59&quot;</td><td>-8.8958e8</td><td>&quot;APP&quot;</td></tr><tr><td>&quot;25%&quot;</td><td>&quot;2022-04-08&quot;</td><td>null</td><td>null</td><td>null</td><td>0.0</td><td>null</td><td>null</td><td>1054.0</td><td>null</td></tr><tr><td>&quot;50%&quot;</td><td>&quot;2022-04-16&quot;</td><td>null</td><td>null</td><td>null</td><td>0.0</td><td>null</td><td>null</td><td>6765.0</td><td>null</td></tr><tr><td>&quot;75%&quot;</td><td>&quot;2022-04-23&quot;</td><td>null</td><td>null</td><td>null</td><td>0.0</td><td>null</td><td>null</td><td>18562.0</td><td>null</td></tr><tr><td>&quot;max&quot;</td><td>&quot;2022-04-30&quot;</td><td>&quot;history&quot;</td><td>&quot;vod&quot;</td><td>&quot;AYBxrfUVa1FFiv…</td><td>0.0</td><td>&quot;qad014541&quot;</td><td>&quot;FC017C984258&quot;</td><td>86400.0</td><td>&quot;VOD&quot;</td></tr></tbody></table></div>"
      ],
      "text/plain": [
       "shape: (9, 10)\n",
       "┌────────────┬────────────┬──────────┬──────────┬───┬───────────┬───────────┬───────────┬──────────┐\n",
       "│ statistic  ┆ Date       ┆ Index    ┆ Type     ┆ … ┆ Contract  ┆ Mac       ┆ TotalDura ┆ AppName  │\n",
       "│ ---        ┆ ---        ┆ ---      ┆ ---      ┆   ┆ ---       ┆ ---       ┆ tion      ┆ ---      │\n",
       "│ str        ┆ str        ┆ str      ┆ str      ┆   ┆ str       ┆ str       ┆ ---       ┆ str      │\n",
       "│            ┆            ┆          ┆          ┆   ┆           ┆           ┆ f64       ┆          │\n",
       "╞════════════╪════════════╪══════════╪══════════╪═══╪═══════════╪═══════════╪═══════════╪══════════╡\n",
       "│ count      ┆ 48457499   ┆ 48457499 ┆ 48457499 ┆ … ┆ 48457499  ┆ 48457499  ┆ 4.8457499 ┆ 48457499 │\n",
       "│            ┆            ┆          ┆          ┆   ┆           ┆           ┆ e7        ┆          │\n",
       "│ null_count ┆ 0          ┆ 0        ┆ 0        ┆ … ┆ 0         ┆ 0         ┆ 0.0       ┆ 0        │\n",
       "│ mean       ┆ 2022-04-15 ┆ null     ┆ null     ┆ … ┆ null      ┆ null      ┆ 15545.568 ┆ null     │\n",
       "│            ┆            ┆          ┆          ┆   ┆           ┆           ┆ 128       ┆          │\n",
       "│ std        ┆ null       ┆ null     ┆ null     ┆ … ┆ null      ┆ null      ┆ 188998.37 ┆ null     │\n",
       "│            ┆            ┆          ┆          ┆   ┆           ┆           ┆ 8306      ┆          │\n",
       "│ min        ┆ 2022-04-01 ┆ history  ┆ app      ┆ … ┆           ┆ 001504D6B ┆ -8.8958e8 ┆ APP      │\n",
       "│            ┆            ┆          ┆          ┆   ┆           ┆ C59       ┆           ┆          │\n",
       "│ 25%        ┆ 2022-04-08 ┆ null     ┆ null     ┆ … ┆ null      ┆ null      ┆ 1054.0    ┆ null     │\n",
       "│ 50%        ┆ 2022-04-16 ┆ null     ┆ null     ┆ … ┆ null      ┆ null      ┆ 6765.0    ┆ null     │\n",
       "│ 75%        ┆ 2022-04-23 ┆ null     ┆ null     ┆ … ┆ null      ┆ null      ┆ 18562.0   ┆ null     │\n",
       "│ max        ┆ 2022-04-30 ┆ history  ┆ vod      ┆ … ┆ qad014541 ┆ FC017C984 ┆ 86400.0   ┆ VOD      │\n",
       "│            ┆            ┆          ┆          ┆   ┆           ┆ 258       ┆           ┆          │\n",
       "└────────────┴────────────┴──────────┴──────────┴───┴───────────┴───────────┴───────────┴──────────┘"
      ]
     },
     "execution_count": 37,
     "metadata": {},
     "output_type": "execute_result"
    }
   ],
   "source": [
    "sources.describe()"
   ]
  },
  {
   "cell_type": "markdown",
   "id": "f46bdc1ff02875c0",
   "metadata": {},
   "source": [
    "# Get the RFM table"
   ]
  },
  {
   "cell_type": "code",
   "execution_count": 27,
   "id": "42c8eb73de804080",
   "metadata": {
    "ExecuteTime": {
     "end_time": "2024-02-26T17:42:06.546803Z",
     "start_time": "2024-02-26T17:42:06.536559Z"
    }
   },
   "outputs": [
    {
     "data": {
      "text/plain": [
       "['Date',\n",
       " 'Index',\n",
       " 'Type',\n",
       " 'Id',\n",
       " 'Score',\n",
       " 'Contract',\n",
       " 'Mac',\n",
       " 'TotalDuration',\n",
       " 'AppName']"
      ]
     },
     "execution_count": 27,
     "metadata": {},
     "output_type": "execute_result"
    }
   ],
   "source": [
    "sources.columns"
   ]
  },
  {
   "cell_type": "code",
   "execution_count": 5,
   "id": "369e49a47d9ae5d2",
   "metadata": {
    "ExecuteTime": {
     "end_time": "2024-02-27T17:12:29.380732Z",
     "start_time": "2024-02-27T17:12:29.372960Z"
    }
   },
   "outputs": [],
   "source": [
    "reported_date = \"20220501\"\n",
    "\n",
    "\n",
    "def get_rfm_table(sources: pl.LazyFrame, reported_date: str = \"20220501\", total_date: int = 30) -> pl.LazyFrame:\n",
    "    b: pl.LazyFrame = (\n",
    "        sources.group_by(\"Contract\")\n",
    "        .agg(\n",
    "            pl.col(\"Date\").max().alias(\"LatestDate\")\n",
    "        )\n",
    "    )\n",
    "\n",
    "    temp = (\n",
    "        sources.with_columns(\n",
    "            pl.lit(reported_date).str.to_date(\"%Y %m %d\").alias(\"ReportedDate\")\n",
    "        )\n",
    "    )\n",
    "\n",
    "    rfm = (\n",
    "        temp\n",
    "        .filter(pl.col(\"Contract\").str.len_chars() > 1)\n",
    "        .join(b, on=\"Contract\", how='left')\n",
    "        .group_by(\"Contract\")\n",
    "        .agg(\n",
    "            (pl.col(\"ReportedDate\") - pl.col(\"LatestDate\")).min().alias(\"Recency\"),\n",
    "            (pl.col(\"Date\").n_unique() / pl.lit(total_date) * 100.0).round(2).alias(\"Frequency\"),\n",
    "            pl.sum(\"TotalDuration\").alias(\"Monetary\"),\n",
    "        )\n",
    "        .with_columns(\n",
    "            pl.col(\"Recency\").qcut(3, labels=[\"1\", \"2\", \"3\"], allow_duplicates=True).alias(\"R\"),\n",
    "            pl.col(\"Frequency\").qcut(3, labels=[\"1\", \"2\", \"3\"], allow_duplicates=True).alias(\"F\"),\n",
    "            pl.col(\"Monetary\").qcut(3, labels=[\"1\", \"2\", \"3\"], allow_duplicates=True).alias(\"M\")\n",
    "        )\n",
    "    )\n",
    "\n",
    "    return rfm\n",
    "\n"
   ]
  },
  {
   "cell_type": "code",
   "execution_count": 7,
   "id": "d6ca74ebbb5ae50c",
   "metadata": {
    "ExecuteTime": {
     "end_time": "2024-02-27T17:12:49.212736Z",
     "start_time": "2024-02-27T17:12:49.099592Z"
    },
    "collapsed": false
   },
   "outputs": [
    {
     "data": {
      "text/html": [
       "<div><style>\n",
       ".dataframe > thead > tr,\n",
       ".dataframe > tbody > tr {\n",
       "  text-align: right;\n",
       "  white-space: pre-wrap;\n",
       "}\n",
       "</style>\n",
       "<small>shape: (2_966, 7)</small><table border=\"1\" class=\"dataframe\"><thead><tr><th>Contract</th><th>Recency</th><th>Frequency</th><th>Monetary</th><th>R</th><th>F</th><th>M</th></tr><tr><td>str</td><td>duration[ms]</td><td>f64</td><td>i64</td><td>cat</td><td>cat</td><td>cat</td></tr></thead><tbody><tr><td>&quot;HNH694560&quot;</td><td>4d</td><td>3.33</td><td>10607</td><td>&quot;1&quot;</td><td>&quot;1&quot;</td><td>&quot;2&quot;</td></tr><tr><td>&quot;THFD35248&quot;</td><td>27d</td><td>3.33</td><td>48971</td><td>&quot;3&quot;</td><td>&quot;1&quot;</td><td>&quot;3&quot;</td></tr><tr><td>&quot;BDFD59542&quot;</td><td>26d</td><td>3.33</td><td>44869</td><td>&quot;3&quot;</td><td>&quot;1&quot;</td><td>&quot;3&quot;</td></tr><tr><td>&quot;HNFD81424&quot;</td><td>3d</td><td>3.33</td><td>2148</td><td>&quot;1&quot;</td><td>&quot;1&quot;</td><td>&quot;1&quot;</td></tr><tr><td>&quot;HPFD03625&quot;</td><td>18d</td><td>3.33</td><td>85875</td><td>&quot;2&quot;</td><td>&quot;1&quot;</td><td>&quot;3&quot;</td></tr><tr><td>&quot;NBFD13727&quot;</td><td>6d</td><td>3.33</td><td>42674</td><td>&quot;1&quot;</td><td>&quot;1&quot;</td><td>&quot;3&quot;</td></tr><tr><td>&quot;HND703462&quot;</td><td>30d</td><td>3.33</td><td>211</td><td>&quot;3&quot;</td><td>&quot;1&quot;</td><td>&quot;1&quot;</td></tr><tr><td>&quot;SGD173674&quot;</td><td>30d</td><td>3.33</td><td>241</td><td>&quot;3&quot;</td><td>&quot;1&quot;</td><td>&quot;1&quot;</td></tr><tr><td>&quot;TIFD02374&quot;</td><td>29d</td><td>3.33</td><td>5540</td><td>&quot;3&quot;</td><td>&quot;1&quot;</td><td>&quot;1&quot;</td></tr><tr><td>&quot;BNFD66450&quot;</td><td>17d</td><td>3.33</td><td>49859</td><td>&quot;2&quot;</td><td>&quot;1&quot;</td><td>&quot;3&quot;</td></tr><tr><td>&quot;HNH780470&quot;</td><td>14d</td><td>3.33</td><td>34561</td><td>&quot;2&quot;</td><td>&quot;1&quot;</td><td>&quot;2&quot;</td></tr><tr><td>&quot;PTFD06621&quot;</td><td>10d</td><td>3.33</td><td>944</td><td>&quot;1&quot;</td><td>&quot;1&quot;</td><td>&quot;1&quot;</td></tr><tr><td>&hellip;</td><td>&hellip;</td><td>&hellip;</td><td>&hellip;</td><td>&hellip;</td><td>&hellip;</td><td>&hellip;</td></tr><tr><td>&quot;HNH230276&quot;</td><td>8d</td><td>3.33</td><td>45664</td><td>&quot;1&quot;</td><td>&quot;1&quot;</td><td>&quot;3&quot;</td></tr><tr><td>&quot;DAFD52212&quot;</td><td>25d</td><td>3.33</td><td>40421</td><td>&quot;3&quot;</td><td>&quot;1&quot;</td><td>&quot;3&quot;</td></tr><tr><td>&quot;NTD019366&quot;</td><td>4d</td><td>3.33</td><td>10602</td><td>&quot;1&quot;</td><td>&quot;1&quot;</td><td>&quot;2&quot;</td></tr><tr><td>&quot;DND027331&quot;</td><td>6d</td><td>3.33</td><td>42677</td><td>&quot;1&quot;</td><td>&quot;1&quot;</td><td>&quot;3&quot;</td></tr><tr><td>&quot;VLD021531&quot;</td><td>25d</td><td>3.33</td><td>40446</td><td>&quot;3&quot;</td><td>&quot;1&quot;</td><td>&quot;3&quot;</td></tr><tr><td>&quot;STFD03395&quot;</td><td>1d</td><td>3.33</td><td>78634</td><td>&quot;1&quot;</td><td>&quot;1&quot;</td><td>&quot;3&quot;</td></tr><tr><td>&quot;DAFD49463&quot;</td><td>11d</td><td>3.33</td><td>45020</td><td>&quot;2&quot;</td><td>&quot;1&quot;</td><td>&quot;3&quot;</td></tr><tr><td>&quot;HNH547212&quot;</td><td>7d</td><td>3.33</td><td>24203</td><td>&quot;1&quot;</td><td>&quot;1&quot;</td><td>&quot;2&quot;</td></tr><tr><td>&quot;SGH699238&quot;</td><td>25d</td><td>3.33</td><td>40455</td><td>&quot;3&quot;</td><td>&quot;1&quot;</td><td>&quot;3&quot;</td></tr><tr><td>&quot;NTFD60172&quot;</td><td>13d</td><td>3.33</td><td>39641</td><td>&quot;2&quot;</td><td>&quot;1&quot;</td><td>&quot;2&quot;</td></tr><tr><td>&quot;BND018886&quot;</td><td>28d</td><td>3.33</td><td>34234</td><td>&quot;3&quot;</td><td>&quot;1&quot;</td><td>&quot;2&quot;</td></tr><tr><td>&quot;DNFD57592&quot;</td><td>29d</td><td>3.33</td><td>9285</td><td>&quot;3&quot;</td><td>&quot;1&quot;</td><td>&quot;1&quot;</td></tr></tbody></table></div>"
      ],
      "text/plain": [
       "shape: (2_966, 7)\n",
       "┌───────────┬──────────────┬───────────┬──────────┬─────┬─────┬─────┐\n",
       "│ Contract  ┆ Recency      ┆ Frequency ┆ Monetary ┆ R   ┆ F   ┆ M   │\n",
       "│ ---       ┆ ---          ┆ ---       ┆ ---      ┆ --- ┆ --- ┆ --- │\n",
       "│ str       ┆ duration[ms] ┆ f64       ┆ i64      ┆ cat ┆ cat ┆ cat │\n",
       "╞═══════════╪══════════════╪═══════════╪══════════╪═════╪═════╪═════╡\n",
       "│ HNH694560 ┆ 4d           ┆ 3.33      ┆ 10607    ┆ 1   ┆ 1   ┆ 2   │\n",
       "│ THFD35248 ┆ 27d          ┆ 3.33      ┆ 48971    ┆ 3   ┆ 1   ┆ 3   │\n",
       "│ BDFD59542 ┆ 26d          ┆ 3.33      ┆ 44869    ┆ 3   ┆ 1   ┆ 3   │\n",
       "│ HNFD81424 ┆ 3d           ┆ 3.33      ┆ 2148     ┆ 1   ┆ 1   ┆ 1   │\n",
       "│ HPFD03625 ┆ 18d          ┆ 3.33      ┆ 85875    ┆ 2   ┆ 1   ┆ 3   │\n",
       "│ …         ┆ …            ┆ …         ┆ …        ┆ …   ┆ …   ┆ …   │\n",
       "│ HNH547212 ┆ 7d           ┆ 3.33      ┆ 24203    ┆ 1   ┆ 1   ┆ 2   │\n",
       "│ SGH699238 ┆ 25d          ┆ 3.33      ┆ 40455    ┆ 3   ┆ 1   ┆ 3   │\n",
       "│ NTFD60172 ┆ 13d          ┆ 3.33      ┆ 39641    ┆ 2   ┆ 1   ┆ 2   │\n",
       "│ BND018886 ┆ 28d          ┆ 3.33      ┆ 34234    ┆ 3   ┆ 1   ┆ 2   │\n",
       "│ DNFD57592 ┆ 29d          ┆ 3.33      ┆ 9285     ┆ 3   ┆ 1   ┆ 1   │\n",
       "└───────────┴──────────────┴───────────┴──────────┴─────┴─────┴─────┘"
      ]
     },
     "execution_count": 7,
     "metadata": {},
     "output_type": "execute_result"
    }
   ],
   "source": [
    "get_rfm_table(sources).fetch(100)"
   ]
  },
  {
   "cell_type": "code",
   "execution_count": 8,
   "id": "3d0e71e446594927",
   "metadata": {
    "ExecuteTime": {
     "end_time": "2024-02-27T17:12:55.743979Z",
     "start_time": "2024-02-27T17:12:55.736972Z"
    }
   },
   "outputs": [],
   "source": [
    "app_names = [\n",
    "    \"CHANNEL\",\n",
    "    \"KPLUS\",\n",
    "    \"VOD\",\n",
    "    \"FIMS\",\n",
    "    \"BHD\",\n",
    "    \"SPORT\",\n",
    "    \"CHILD\",\n",
    "    \"RELAX\",\n",
    "]\n",
    "\n",
    "column_names = [\n",
    "    \"TVDuration\",\n",
    "    \"TVDuration\",\n",
    "    \"MovieDuration\",\n",
    "    \"MovieDuration\",\n",
    "    \"MovieDuration\",\n",
    "    \"SportDuration\",\n",
    "    \"ChildDuration\",\n",
    "    \"RelaxDuration\",\n",
    "]\n",
    "def get_pivot_data(sources: pl.LazyFrame, app_names: List[str], column_names: List[str]) -> pl.LazyFrame:\n",
    "    if not isinstance(sources, pl.LazyFrame):\n",
    "        sources = sources.lazy()\n",
    "\n",
    "    if len(app_names) != len(column_names):\n",
    "        raise ValueError(\"The lengths of app_names and column_names must be the same\")\n",
    "\n",
    "    mapping = dict(zip(app_names, column_names))\n",
    "    pivot_df: pl.LazyFrame = (\n",
    "        sources.select(\n",
    "            pl.col(\"Contract\"),\n",
    "            pl.col(\"TotalDuration\"),\n",
    "            pl.col(\"AppName\").replace(mapping, default=\"Unknown\").alias(\"Type\")\n",
    "        )\n",
    "        .filter(\n",
    "            (pl.col(\"Contract\").str.len_chars() > 1)\n",
    "            & (pl.col(\"Type\") != \"Unknown\")\n",
    "            & (pl.col(\"TotalDuration\") > 0)\n",
    "        )\n",
    "        .group_by([\"Contract\"])\n",
    "        .agg(\n",
    "            [\n",
    "                pl.when(pl.col(\"Type\") == y ).then(pl.col(\"TotalDuration\")).sum().alias(y)\n",
    "                for y in set(column_names)\n",
    "            ]\n",
    "        )\n",
    "        .sort([\"Contract\", \"TVDuration\"])\n",
    "    )\n",
    "\n",
    "    return pivot_df"
   ]
  },
  {
   "cell_type": "code",
   "execution_count": 12,
   "id": "86971fedc736ee98",
   "metadata": {
    "ExecuteTime": {
     "end_time": "2024-02-27T17:13:48.385592Z",
     "start_time": "2024-02-27T17:13:48.379969Z"
    },
    "collapsed": false
   },
   "outputs": [],
   "source": [
    "def get_most_watch(sources: pl.LazyFrame) -> pl.LazyFrame:\n",
    "    if not isinstance(sources, pl.LazyFrame):\n",
    "        sources = sources.lazy()\n",
    "    columns = sources.columns[1:]\n",
    "    watch_type = [item[:-8] for item in columns]\n",
    "\n",
    "    return (\n",
    "        sources\n",
    "        .with_columns(\n",
    "            pl.concat_list([\n",
    "                pl.struct(pl.col(c).alias(\"l\"), pl.lit(v).alias(\"k\")) for c, v in zip(columns, watch_type)\n",
    "                for c, v in zip(columns, watch_type)\n",
    "            ]\n",
    "            ).alias('temp')\n",
    "        )\n",
    "        .select(\n",
    "            pl.col('Contract'),\n",
    "            pl.col('temp').list.sort(descending=True).list.first().struct.field('k').alias('MostWatch')\n",
    "        )\n",
    "    )\n"
   ]
  },
  {
   "cell_type": "code",
   "execution_count": 9,
   "id": "ccb6ad7a5383693f",
   "metadata": {
    "ExecuteTime": {
     "end_time": "2024-02-27T17:13:14.106447Z",
     "start_time": "2024-02-27T17:13:14.100306Z"
    },
    "collapsed": false
   },
   "outputs": [],
   "source": [
    "pivot_df = get_pivot_data(sources, app_names, column_names)"
   ]
  },
  {
   "cell_type": "code",
   "execution_count": 10,
   "id": "71486f3a3ebf887b",
   "metadata": {
    "ExecuteTime": {
     "end_time": "2024-02-27T17:13:17.926255Z",
     "start_time": "2024-02-27T17:13:17.885065Z"
    },
    "collapsed": false
   },
   "outputs": [
    {
     "data": {
      "text/html": [
       "<div><style>\n",
       ".dataframe > thead > tr,\n",
       ".dataframe > tbody > tr {\n",
       "  text-align: right;\n",
       "  white-space: pre-wrap;\n",
       "}\n",
       "</style>\n",
       "<small>shape: (2_962, 6)</small><table border=\"1\" class=\"dataframe\"><thead><tr><th>Contract</th><th>MovieDuration</th><th>RelaxDuration</th><th>ChildDuration</th><th>SportDuration</th><th>TVDuration</th></tr><tr><td>str</td><td>i64</td><td>i64</td><td>i64</td><td>i64</td><td>i64</td></tr></thead><tbody><tr><td>&quot;AGAAA0895&quot;</td><td>0</td><td>0</td><td>0</td><td>0</td><td>45044</td></tr><tr><td>&quot;AGAAA2984&quot;</td><td>0</td><td>0</td><td>0</td><td>0</td><td>767</td></tr><tr><td>&quot;AGD018502&quot;</td><td>0</td><td>0</td><td>0</td><td>0</td><td>813</td></tr><tr><td>&quot;AGD019199&quot;</td><td>0</td><td>0</td><td>9516</td><td>0</td><td>0</td></tr><tr><td>&quot;AGD023638&quot;</td><td>10740</td><td>0</td><td>0</td><td>0</td><td>0</td></tr><tr><td>&quot;AGD029777&quot;</td><td>0</td><td>0</td><td>0</td><td>0</td><td>48881</td></tr><tr><td>&quot;AGD030574&quot;</td><td>0</td><td>0</td><td>0</td><td>0</td><td>77587</td></tr><tr><td>&quot;AGFD02286&quot;</td><td>0</td><td>0</td><td>0</td><td>0</td><td>44864</td></tr><tr><td>&quot;AGFD03433&quot;</td><td>0</td><td>0</td><td>7441</td><td>0</td><td>0</td></tr><tr><td>&quot;AGFD03608&quot;</td><td>0</td><td>0</td><td>0</td><td>0</td><td>20195</td></tr><tr><td>&quot;AGFD11028&quot;</td><td>0</td><td>0</td><td>0</td><td>0</td><td>34113</td></tr><tr><td>&quot;AGFD13266&quot;</td><td>0</td><td>0</td><td>0</td><td>0</td><td>73605</td></tr><tr><td>&hellip;</td><td>&hellip;</td><td>&hellip;</td><td>&hellip;</td><td>&hellip;</td><td>&hellip;</td></tr><tr><td>&quot;VTH013840&quot;</td><td>0</td><td>0</td><td>0</td><td>0</td><td>44943</td></tr><tr><td>&quot;VTH016166&quot;</td><td>0</td><td>0</td><td>0</td><td>0</td><td>16978</td></tr><tr><td>&quot;YBFD01841&quot;</td><td>0</td><td>0</td><td>0</td><td>0</td><td>34074</td></tr><tr><td>&quot;YBFD01992&quot;</td><td>35721</td><td>0</td><td>0</td><td>0</td><td>0</td></tr><tr><td>&quot;YBFD05612&quot;</td><td>0</td><td>0</td><td>0</td><td>0</td><td>48959</td></tr><tr><td>&quot;YBFD06092&quot;</td><td>0</td><td>0</td><td>0</td><td>0</td><td>15558</td></tr><tr><td>&quot;YBFD06137&quot;</td><td>0</td><td>0</td><td>0</td><td>0</td><td>42673</td></tr><tr><td>&quot;YBFD06295&quot;</td><td>0</td><td>0</td><td>0</td><td>0</td><td>2149</td></tr><tr><td>&quot;YBFD08036&quot;</td><td>0</td><td>0</td><td>0</td><td>0</td><td>34236</td></tr><tr><td>&quot;YBFD08438&quot;</td><td>0</td><td>0</td><td>0</td><td>0</td><td>34559</td></tr><tr><td>&quot;YBFD09582&quot;</td><td>0</td><td>0</td><td>0</td><td>0</td><td>5022</td></tr><tr><td>&quot;YBFD09881&quot;</td><td>0</td><td>0</td><td>0</td><td>0</td><td>19988</td></tr></tbody></table></div>"
      ],
      "text/plain": [
       "shape: (2_962, 6)\n",
       "┌───────────┬───────────────┬───────────────┬───────────────┬───────────────┬────────────┐\n",
       "│ Contract  ┆ MovieDuration ┆ RelaxDuration ┆ ChildDuration ┆ SportDuration ┆ TVDuration │\n",
       "│ ---       ┆ ---           ┆ ---           ┆ ---           ┆ ---           ┆ ---        │\n",
       "│ str       ┆ i64           ┆ i64           ┆ i64           ┆ i64           ┆ i64        │\n",
       "╞═══════════╪═══════════════╪═══════════════╪═══════════════╪═══════════════╪════════════╡\n",
       "│ AGAAA0895 ┆ 0             ┆ 0             ┆ 0             ┆ 0             ┆ 45044      │\n",
       "│ AGAAA2984 ┆ 0             ┆ 0             ┆ 0             ┆ 0             ┆ 767        │\n",
       "│ AGD018502 ┆ 0             ┆ 0             ┆ 0             ┆ 0             ┆ 813        │\n",
       "│ AGD019199 ┆ 0             ┆ 0             ┆ 9516          ┆ 0             ┆ 0          │\n",
       "│ AGD023638 ┆ 10740         ┆ 0             ┆ 0             ┆ 0             ┆ 0          │\n",
       "│ …         ┆ …             ┆ …             ┆ …             ┆ …             ┆ …          │\n",
       "│ YBFD06295 ┆ 0             ┆ 0             ┆ 0             ┆ 0             ┆ 2149       │\n",
       "│ YBFD08036 ┆ 0             ┆ 0             ┆ 0             ┆ 0             ┆ 34236      │\n",
       "│ YBFD08438 ┆ 0             ┆ 0             ┆ 0             ┆ 0             ┆ 34559      │\n",
       "│ YBFD09582 ┆ 0             ┆ 0             ┆ 0             ┆ 0             ┆ 5022       │\n",
       "│ YBFD09881 ┆ 0             ┆ 0             ┆ 0             ┆ 0             ┆ 19988      │\n",
       "└───────────┴───────────────┴───────────────┴───────────────┴───────────────┴────────────┘"
      ]
     },
     "execution_count": 10,
     "metadata": {},
     "output_type": "execute_result"
    }
   ],
   "source": [
    "pivot_df.fetch(100)"
   ]
  },
  {
   "cell_type": "code",
   "execution_count": 13,
   "id": "ddea61747cb17902",
   "metadata": {
    "ExecuteTime": {
     "end_time": "2024-02-27T17:13:55.665881Z",
     "start_time": "2024-02-27T17:13:55.206423Z"
    },
    "collapsed": false
   },
   "outputs": [
    {
     "data": {
      "text/html": [
       "<div><style>\n",
       ".dataframe > thead > tr,\n",
       ".dataframe > tbody > tr {\n",
       "  text-align: right;\n",
       "  white-space: pre-wrap;\n",
       "}\n",
       "</style>\n",
       "<small>shape: (2_962, 2)</small><table border=\"1\" class=\"dataframe\"><thead><tr><th>Contract</th><th>MostWatch</th></tr><tr><td>str</td><td>str</td></tr></thead><tbody><tr><td>&quot;AGAAA0895&quot;</td><td>&quot;TV&quot;</td></tr><tr><td>&quot;AGAAA2984&quot;</td><td>&quot;TV&quot;</td></tr><tr><td>&quot;AGD018502&quot;</td><td>&quot;TV&quot;</td></tr><tr><td>&quot;AGD019199&quot;</td><td>&quot;Child&quot;</td></tr><tr><td>&quot;AGD023638&quot;</td><td>&quot;Movie&quot;</td></tr><tr><td>&quot;AGD029777&quot;</td><td>&quot;TV&quot;</td></tr><tr><td>&quot;AGD030574&quot;</td><td>&quot;TV&quot;</td></tr><tr><td>&quot;AGFD02286&quot;</td><td>&quot;TV&quot;</td></tr><tr><td>&quot;AGFD03433&quot;</td><td>&quot;Child&quot;</td></tr><tr><td>&quot;AGFD03608&quot;</td><td>&quot;TV&quot;</td></tr><tr><td>&quot;AGFD11028&quot;</td><td>&quot;TV&quot;</td></tr><tr><td>&quot;AGFD13266&quot;</td><td>&quot;TV&quot;</td></tr><tr><td>&hellip;</td><td>&hellip;</td></tr><tr><td>&quot;VTH013840&quot;</td><td>&quot;TV&quot;</td></tr><tr><td>&quot;VTH016166&quot;</td><td>&quot;TV&quot;</td></tr><tr><td>&quot;YBFD01841&quot;</td><td>&quot;TV&quot;</td></tr><tr><td>&quot;YBFD01992&quot;</td><td>&quot;Movie&quot;</td></tr><tr><td>&quot;YBFD05612&quot;</td><td>&quot;TV&quot;</td></tr><tr><td>&quot;YBFD06092&quot;</td><td>&quot;TV&quot;</td></tr><tr><td>&quot;YBFD06137&quot;</td><td>&quot;TV&quot;</td></tr><tr><td>&quot;YBFD06295&quot;</td><td>&quot;TV&quot;</td></tr><tr><td>&quot;YBFD08036&quot;</td><td>&quot;TV&quot;</td></tr><tr><td>&quot;YBFD08438&quot;</td><td>&quot;TV&quot;</td></tr><tr><td>&quot;YBFD09582&quot;</td><td>&quot;TV&quot;</td></tr><tr><td>&quot;YBFD09881&quot;</td><td>&quot;TV&quot;</td></tr></tbody></table></div>"
      ],
      "text/plain": [
       "shape: (2_962, 2)\n",
       "┌───────────┬───────────┐\n",
       "│ Contract  ┆ MostWatch │\n",
       "│ ---       ┆ ---       │\n",
       "│ str       ┆ str       │\n",
       "╞═══════════╪═══════════╡\n",
       "│ AGAAA0895 ┆ TV        │\n",
       "│ AGAAA2984 ┆ TV        │\n",
       "│ AGD018502 ┆ TV        │\n",
       "│ AGD019199 ┆ Child     │\n",
       "│ AGD023638 ┆ Movie     │\n",
       "│ …         ┆ …         │\n",
       "│ YBFD06295 ┆ TV        │\n",
       "│ YBFD08036 ┆ TV        │\n",
       "│ YBFD08438 ┆ TV        │\n",
       "│ YBFD09582 ┆ TV        │\n",
       "│ YBFD09881 ┆ TV        │\n",
       "└───────────┴───────────┘"
      ]
     },
     "execution_count": 13,
     "metadata": {},
     "output_type": "execute_result"
    }
   ],
   "source": [
    "get_most_watch(pivot_df).fetch(100)"
   ]
  },
  {
   "cell_type": "code",
   "execution_count": 110,
   "id": "8a4ff054ac24d500",
   "metadata": {
    "ExecuteTime": {
     "end_time": "2024-02-27T16:39:51.053742Z",
     "start_time": "2024-02-27T16:39:50.043722Z"
    },
    "collapsed": false
   },
   "outputs": [
    {
     "data": {
      "text/html": [
       "<div><style>\n",
       ".dataframe > thead > tr,\n",
       ".dataframe > tbody > tr {\n",
       "  text-align: right;\n",
       "  white-space: pre-wrap;\n",
       "}\n",
       "</style>\n",
       "<small>shape: (14_599, 2)</small><table border=\"1\" class=\"dataframe\"><thead><tr><th>Contract</th><th>k</th></tr><tr><td>str</td><td>str</td></tr></thead><tbody><tr><td>&quot;AGAAA0895&quot;</td><td>&quot;TV&quot;</td></tr><tr><td>&quot;AGAAA1084&quot;</td><td>&quot;TV&quot;</td></tr><tr><td>&quot;AGAAA1339&quot;</td><td>&quot;TV&quot;</td></tr><tr><td>&quot;AGAAA1998&quot;</td><td>&quot;Sport&quot;</td></tr><tr><td>&quot;AGAAA2151&quot;</td><td>&quot;TV&quot;</td></tr><tr><td>&quot;AGAAA2984&quot;</td><td>&quot;TV&quot;</td></tr><tr><td>&quot;AGAAA3269&quot;</td><td>&quot;TV&quot;</td></tr><tr><td>&quot;AGD003389&quot;</td><td>&quot;TV&quot;</td></tr><tr><td>&quot;AGD003690&quot;</td><td>&quot;TV&quot;</td></tr><tr><td>&quot;AGD005972&quot;</td><td>&quot;TV&quot;</td></tr><tr><td>&quot;AGD007348&quot;</td><td>&quot;Movie&quot;</td></tr><tr><td>&quot;AGD007596&quot;</td><td>&quot;Movie&quot;</td></tr><tr><td>&hellip;</td><td>&hellip;</td></tr><tr><td>&quot;YBFD08036&quot;</td><td>&quot;TV&quot;</td></tr><tr><td>&quot;YBFD08438&quot;</td><td>&quot;TV&quot;</td></tr><tr><td>&quot;YBFD08502&quot;</td><td>&quot;TV&quot;</td></tr><tr><td>&quot;YBFD08732&quot;</td><td>&quot;Movie&quot;</td></tr><tr><td>&quot;YBFD08976&quot;</td><td>&quot;Movie&quot;</td></tr><tr><td>&quot;YBFD09000&quot;</td><td>&quot;TV&quot;</td></tr><tr><td>&quot;YBFD09582&quot;</td><td>&quot;TV&quot;</td></tr><tr><td>&quot;YBFD09628&quot;</td><td>&quot;TV&quot;</td></tr><tr><td>&quot;YBFD09836&quot;</td><td>&quot;TV&quot;</td></tr><tr><td>&quot;YBFD09881&quot;</td><td>&quot;TV&quot;</td></tr><tr><td>&quot;YBFD10625&quot;</td><td>&quot;TV&quot;</td></tr><tr><td>&quot;YBFD11036&quot;</td><td>&quot;TV&quot;</td></tr></tbody></table></div>"
      ],
      "text/plain": [
       "shape: (14_599, 2)\n",
       "┌───────────┬───────┐\n",
       "│ Contract  ┆ k     │\n",
       "│ ---       ┆ ---   │\n",
       "│ str       ┆ str   │\n",
       "╞═══════════╪═══════╡\n",
       "│ AGAAA0895 ┆ TV    │\n",
       "│ AGAAA1084 ┆ TV    │\n",
       "│ AGAAA1339 ┆ TV    │\n",
       "│ AGAAA1998 ┆ Sport │\n",
       "│ AGAAA2151 ┆ TV    │\n",
       "│ …         ┆ …     │\n",
       "│ YBFD09628 ┆ TV    │\n",
       "│ YBFD09836 ┆ TV    │\n",
       "│ YBFD09881 ┆ TV    │\n",
       "│ YBFD10625 ┆ TV    │\n",
       "│ YBFD11036 ┆ TV    │\n",
       "└───────────┴───────┘"
      ]
     },
     "execution_count": 110,
     "metadata": {},
     "output_type": "execute_result"
    }
   ],
   "source": [
    "(pivot_df.with_columns(\n",
    "    pl.concat_list([pl.struct(pl.col(c).alias(\"l\"), pl.lit(v).alias(\"k\")) for c, v in zip (columns, watch_type)]).alias('temp')\n",
    ").select(\n",
    "    pl.col('Contract'),\n",
    "    pl.col('temp').list.sort(descending=True).list.first().struct.field('k')\n",
    ")\n",
    " .fetch())\n"
   ]
  },
  {
   "cell_type": "code",
   "execution_count": 105,
   "id": "dad38ca218723277",
   "metadata": {
    "ExecuteTime": {
     "end_time": "2024-02-27T16:27:49.866860Z",
     "start_time": "2024-02-27T16:27:49.861077Z"
    },
    "collapsed": false
   },
   "outputs": [
    {
     "data": {
      "text/plain": [
       "['MovieDuration',\n",
       " 'TVDuration',\n",
       " 'RelaxDuration',\n",
       " 'ChildDuration',\n",
       " 'SportDuration']"
      ]
     },
     "execution_count": 105,
     "metadata": {},
     "output_type": "execute_result"
    }
   ],
   "source": [
    "columns"
   ]
  },
  {
   "cell_type": "code",
   "execution_count": 106,
   "id": "f3e2871e0fbaa01e",
   "metadata": {
    "ExecuteTime": {
     "end_time": "2024-02-27T16:29:44.912307Z",
     "start_time": "2024-02-27T16:29:44.906242Z"
    },
    "collapsed": false
   },
   "outputs": [
    {
     "data": {
      "text/plain": [
       "[]"
      ]
     },
     "execution_count": 106,
     "metadata": {},
     "output_type": "execute_result"
    }
   ],
   "source": [
    "original_list = ['MovieDuration', 'TVDuration', 'RelaxDuration', 'ChildDuration', 'SportDuration']\n",
    "filtered_list = [item for item in original_list if 'Duration' not in item]\n",
    "filtered_list"
   ]
  }
 ],
 "metadata": {
  "kernelspec": {
   "display_name": "Python 3",
   "language": "python",
   "name": "python3"
  },
  "language_info": {
   "codemirror_mode": {
    "name": "ipython",
    "version": 3
   },
   "file_extension": ".py",
   "mimetype": "text/x-python",
   "name": "python",
   "nbconvert_exporter": "python",
   "pygments_lexer": "ipython3",
   "version": "3.11.6"
  }
 },
 "nbformat": 4,
 "nbformat_minor": 5
}
