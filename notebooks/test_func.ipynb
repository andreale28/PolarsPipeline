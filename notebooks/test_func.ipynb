{
 "cells": [
  {
   "cell_type": "code",
   "execution_count": 1,
   "id": "initial_id",
   "metadata": {
    "collapsed": true,
    "ExecuteTime": {
     "end_time": "2024-03-11T07:32:12.052601Z",
     "start_time": "2024-03-11T07:32:12.029654Z"
    }
   },
   "outputs": [],
   "source": [
    "%load_ext autoreload\n",
    "%autoreload 2"
   ]
  },
  {
   "cell_type": "code",
   "outputs": [],
   "source": [
    "from src.scripts.pipeline import get_rfm_table, get_most_watch, get_gold_table, get_pivot_table\n",
    "from src.scripts.support import ingest_from_local\n",
    "from src.scripts.schema import PL_SCHEMA, Output\n",
    "from src.helpers.utils import create_date_directories\n",
    "import polars as pl\n",
    "import patito as pt"
   ],
   "metadata": {
    "collapsed": false,
    "ExecuteTime": {
     "end_time": "2024-03-11T08:05:26.815904Z",
     "start_time": "2024-03-11T08:05:26.793065Z"
    }
   },
   "id": "32e83210dbcb9d",
   "execution_count": 21
  },
  {
   "cell_type": "code",
   "outputs": [
    {
     "name": "stdout",
     "output_type": "stream",
     "text": [
      "['../data/log_content/20220401.json', '../data/log_content/20220402.json', '../data/log_content/20220403.json', '../data/log_content/20220404.json', '../data/log_content/20220405.json']\n"
     ]
    }
   ],
   "source": [
    "base_path = \"../data/log_content/\"\n",
    "start_date = \"20220401\"\n",
    "end_date = \"20220405\"\n",
    "paths = create_date_directories(base_path, start_date, end_date)\n",
    "print(paths)"
   ],
   "metadata": {
    "collapsed": false,
    "ExecuteTime": {
     "end_time": "2024-03-11T07:33:13.689195Z",
     "start_time": "2024-03-11T07:33:13.666703Z"
    }
   },
   "id": "512b2691d261a1c6",
   "execution_count": 4
  },
  {
   "cell_type": "code",
   "outputs": [],
   "source": [
    "sources = ingest_from_local(paths=paths, schema=PL_SCHEMA)"
   ],
   "metadata": {
    "collapsed": false,
    "ExecuteTime": {
     "end_time": "2024-03-11T07:33:16.376193Z",
     "start_time": "2024-03-11T07:33:16.348602Z"
    }
   },
   "id": "d8d10818b03a31e8",
   "execution_count": 5
  },
  {
   "cell_type": "code",
   "outputs": [],
   "source": [
    "if __name__ == '__main__':\n",
    "    app_names = [\n",
    "        \"CHANNEL\",\n",
    "        \"KPLUS\",\n",
    "        \"VOD\",\n",
    "        \"FIMS\",\n",
    "        \"BHD\",\n",
    "        \"SPORT\",\n",
    "        \"CHILD\",\n",
    "        \"RELAX\",\n",
    "    ]\n",
    "\n",
    "    column_names = [\n",
    "        \"TVDuration\",\n",
    "        \"TVDuration\",\n",
    "        \"MovieDuration\",\n",
    "        \"MovieDuration\",\n",
    "        \"MovieDuration\",\n",
    "        \"SportDuration\",\n",
    "        \"ChildDuration\",\n",
    "        \"RelaxDuration\",\n",
    "    ]\n",
    "    # get_rfm_table(sources=sources).fetch(100)\n",
    "    data = get_gold_table(sources, app_names=app_names, columns_names=column_names)\n",
    "    try:\n",
    "        Output.validate(data.fetch(100))\n",
    "    except pt.DataFrameValidationError as e:\n",
    "        print(e)\n",
    "        "
   ],
   "metadata": {
    "collapsed": false,
    "ExecuteTime": {
     "end_time": "2024-03-11T08:05:32.242671Z",
     "start_time": "2024-03-11T08:05:32.178119Z"
    }
   },
   "id": "4d15a22c98105c0b",
   "execution_count": 22
  },
  {
   "cell_type": "code",
   "outputs": [
    {
     "name": "stdout",
     "output_type": "stream",
     "text": [
      "shape: (500, 10)\n",
      "┌────────────┬─────────┬─────────┬────────────┬───┬────────────┬────────────┬─────────┬────────────┐\n",
      "│ Date       ┆ Index   ┆ Type    ┆ Id         ┆ … ┆ Mac        ┆ TotalDurat ┆ AppName ┆ reported_d │\n",
      "│ ---        ┆ ---     ┆ ---     ┆ ---        ┆   ┆ ---        ┆ ion        ┆ ---     ┆ ate        │\n",
      "│ datetime[μ ┆ str     ┆ str     ┆ str        ┆   ┆ str        ┆ ---        ┆ str     ┆ ---        │\n",
      "│ s]         ┆         ┆         ┆            ┆   ┆            ┆ i64        ┆         ┆ str        │\n",
      "╞════════════╪═════════╪═════════╪════════════╪═══╪════════════╪════════════╪═════════╪════════════╡\n",
      "│ 2022-04-01 ┆ history ┆ kplus   ┆ AX_momhia1 ┆ … ┆ 0C96E62FC5 ┆ 254        ┆ KPLUS   ┆ 20220501   │\n",
      "│ 00:00:00   ┆         ┆         ┆ FFivsGrn9o ┆   ┆ 5C         ┆            ┆         ┆            │\n",
      "│ 2022-04-01 ┆ history ┆ kplus   ┆ AX_momhca1 ┆ … ┆ CCEDDC3336 ┆ 1457       ┆ KPLUS   ┆ 20220501   │\n",
      "│ 00:00:00   ┆         ┆         ┆ FFivsGrnvg ┆   ┆ 14         ┆            ┆         ┆            │\n",
      "│ 2022-04-01 ┆ history ┆ kplus   ┆ AX_momhaa1 ┆ … ┆ B068E6A1C5 ┆ 2318       ┆ KPLUS   ┆ 20220501   │\n",
      "│ 00:00:00   ┆         ┆         ┆ FFivsGrnny ┆   ┆ F6         ┆            ┆         ┆            │\n",
      "│ 2022-04-01 ┆ history ┆ kplus   ┆ AX_momhca1 ┆ … ┆ 08674EE8D2 ┆ 1452       ┆ KPLUS   ┆ 20220501   │\n",
      "│ 00:00:00   ┆         ┆         ┆ FFivsGrnvv ┆   ┆ C2         ┆            ┆         ┆            │\n",
      "│ 2022-04-01 ┆ history ┆ kplus   ┆ AX_momhia1 ┆ … ┆ 402343C25D ┆ 251        ┆ KPLUS   ┆ 20220501   │\n",
      "│ 00:00:00   ┆         ┆         ┆ FFivsGrn98 ┆   ┆ 7D         ┆            ┆         ┆            │\n",
      "│ …          ┆ …       ┆ …       ┆ …          ┆ … ┆ …          ┆ …          ┆ …       ┆ …          │\n",
      "│ 2022-04-05 ┆ history ┆ channel ┆ AX_7NfF9a1 ┆ … ┆ 08674EC9BA ┆ 45139      ┆ CHANNEL ┆ 20220501   │\n",
      "│ 00:00:00   ┆         ┆         ┆ FFivsG_YRt ┆   ┆ FA         ┆            ┆         ┆            │\n",
      "│ 2022-04-05 ┆ history ┆ channel ┆ AX_7NfGAa1 ┆ … ┆ 08674EF71D ┆ 44661      ┆ CHANNEL ┆ 20220501   │\n",
      "│ 00:00:00   ┆         ┆         ┆ FFivsG_YeA ┆   ┆ 35         ┆            ┆         ┆            │\n",
      "│ 2022-04-05 ┆ history ┆ channel ┆ AX_7NfF9a1 ┆ … ┆ D812653571 ┆ 45136      ┆ CHANNEL ┆ 20220501   │\n",
      "│ 00:00:00   ┆         ┆         ┆ FFivsG_YSI ┆   ┆ 09         ┆            ┆         ┆            │\n",
      "│ 2022-04-05 ┆ history ┆ channel ┆ AX_7NfGAa1 ┆ … ┆ DCA2664E6E ┆ 44659      ┆ CHANNEL ┆ 20220501   │\n",
      "│ 00:00:00   ┆         ┆         ┆ FFivsG_YeK ┆   ┆ F5         ┆            ┆         ┆            │\n",
      "│ 2022-04-05 ┆ history ┆ channel ┆ AX_7NfF8a1 ┆ … ┆ B046FCB88E ┆ 44193      ┆ CHANNEL ┆ 20220501   │\n",
      "│ 00:00:00   ┆         ┆         ┆ FFivsG_YIA ┆   ┆ BA         ┆            ┆         ┆            │\n",
      "└────────────┴─────────┴─────────┴────────────┴───┴────────────┴────────────┴─────────┴────────────┘\n"
     ]
    }
   ],
   "source": [
    "print(sources.with_columns(\n",
    "    pl.lit(\"20220501\").alias(\"reported_date\")\n",
    ").fetch(100))"
   ],
   "metadata": {
    "collapsed": false,
    "ExecuteTime": {
     "end_time": "2024-03-11T02:47:26.388142Z",
     "start_time": "2024-03-11T02:47:26.356800Z"
    }
   },
   "id": "4bece04a9a0d17f3",
   "execution_count": 40
  },
  {
   "cell_type": "code",
   "outputs": [
    {
     "name": "stdout",
     "output_type": "stream",
     "text": [
      "shape: (2,)\n",
      "Series: '' [datetime[μs]]\n",
      "[\n",
      "\t2022-04-01 00:00:00\n",
      "\t2022-04-01 00:00:00\n",
      "]\n"
     ]
    }
   ],
   "source": [
    "s = pl.Series([\"20220401\", \"20220401\"]).str.strptime(pl.Datetime, format=\"%Y %m %d\")\n",
    "print(s)"
   ],
   "metadata": {
    "collapsed": false,
    "ExecuteTime": {
     "end_time": "2024-03-11T02:46:46.661587Z",
     "start_time": "2024-03-11T02:46:46.639698Z"
    }
   },
   "id": "10c39a377b711c9a",
   "execution_count": 37
  }
 ],
 "metadata": {
  "kernelspec": {
   "display_name": "Python 3",
   "language": "python",
   "name": "python3"
  },
  "language_info": {
   "codemirror_mode": {
    "name": "ipython",
    "version": 2
   },
   "file_extension": ".py",
   "mimetype": "text/x-python",
   "name": "python",
   "nbconvert_exporter": "python",
   "pygments_lexer": "ipython2",
   "version": "2.7.6"
  }
 },
 "nbformat": 4,
 "nbformat_minor": 5
}
